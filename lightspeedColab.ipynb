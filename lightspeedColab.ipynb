{
  "cells": [
    {
      "attachments": {},
      "cell_type": "markdown",
      "id": "a95edf67",
      "metadata": {},
      "source": [
        "# 导入package和初始化"
      ]
    },
    {
      "cell_type": "code",
      "execution_count": 1,
      "id": "e2349886",
      "metadata": {},
      "outputs": [
        {
          "data": {
            "text/plain": [
              "48"
            ]
          },
          "execution_count": 1,
          "metadata": {},
          "output_type": "execute_result"
        }
      ],
      "source": [
        "import os\n",
        "import openai\n",
        "from concurrent.futures import ThreadPoolExecutor, as_completed\n",
        "import tiktoken\n",
        "import logging\n",
        "from tqdm import tqdm\n",
        "import time\n",
        "import random\n",
        "from dotenv import load_dotenv\n",
        "logging.basicConfig(level=logging.INFO) # Setup the logging system\n",
        "from multiprocessing import cpu_count\n",
        "\n",
        "\n",
        "load_dotenv()\n",
        "os.environ[\"http_proxy\"] = \"http://10.10.1.3:10000\"\n",
        "os.environ[\"https_proxy\"] = \"http://10.10.1.3:10000\"\n",
        "# Load your API key from an environment variable or secret management service\n",
        "openai.api_key = os.getenv(\"OPENAI_API_KEY\")\n",
        "os.environ['OPENAI_API_KEY'] = openai.api_key\n",
        "\n",
        "cpu_count()"
      ]
    },
    {
      "attachments": {},
      "cell_type": "markdown",
      "id": "9a8c117f",
      "metadata": {},
      "source": [
        "# 定义一些utils函数"
      ]
    },
    {
      "cell_type": "code",
      "execution_count": 2,
      "id": "9S5tOGiI732X",
      "metadata": {
        "id": "9S5tOGiI732X"
      },
      "outputs": [],
      "source": [
        "def load_text(file_path):\n",
        "    try:\n",
        "        with open(file_path, 'r') as file:\n",
        "            return file.read()\n",
        "    except Exception as e:\n",
        "        logging.error(f'Failed to load file {file_path}: {str(e)}')\n",
        "        raise\n",
        "\n",
        "\n",
        "def initialize_files(output_file, log_file):\n",
        "    try:\n",
        "        open(output_file, 'w').close()\n",
        "        open(log_file, 'w').close()\n",
        "    except Exception as e:\n",
        "        logging.error(f'Failed to initialize files {output_file}, {log_file}: {str(e)}')\n",
        "        raise\n",
        "\n",
        "\n",
        "def save_to_file(responses, output_file):\n",
        "    try:\n",
        "        with open(output_file, 'w') as file:\n",
        "            for response in responses:\n",
        "                file.write(response + '\\n')\n",
        "    except Exception as e:\n",
        "        logging.error(f'Failed to save to file {output_file}: {str(e)}')\n",
        "        raise\n",
        "\n",
        "\n",
        "def log_to_file(log_file, message):\n",
        "    try:\n",
        "        with open(log_file, 'a') as file:\n",
        "            file.write(message + '\\n')\n",
        "    except Exception as e:\n",
        "        logging.error(f'Failed to log to file {log_file}: {str(e)}')\n",
        "        raise\n",
        "\n",
        "\n",
        "def call_openai_api(chunk, model, max_tokens, temperature, prompt):\n",
        "    for i in range(3):\n",
        "        try:\n",
        "            response = openai.ChatCompletion.create(\n",
        "                model=model,\n",
        "                messages=[\n",
        "                    {'role': 'system', 'content': prompt},\n",
        "                    {'role': 'user', 'content': chunk},\n",
        "                ],\n",
        "                max_tokens=max_tokens,\n",
        "                n=1,\n",
        "                stop=None,\n",
        "                temperature=temperature,\n",
        "            )\n",
        "            return response.choices[0]['message']['content'].strip()\n",
        "        except openai.error.RateLimitError:\n",
        "            wait_time = (2 ** i) + random.random()\n",
        "            logging.warning(f'Rate limit exceeded. Retrying after {wait_time} seconds.')\n",
        "            time.sleep(wait_time)\n",
        "        except Exception as e:\n",
        "            logging.error(f'API call failed: {str(e)}')\n",
        "            return None\n",
        "    logging.error('Failed to call OpenAI API after multiple retries due to rate limiting.')\n",
        "    return None\n",
        "\n",
        "\n",
        "def split_into_chunks(text, model, tokens=1000):\n",
        "    encoding = tiktoken.encoding_for_model(model)\n",
        "    words = encoding.encode(text)\n",
        "    chunks = []\n",
        "    for i in range(0, len(words), tokens):\n",
        "        chunks.append(''.join(encoding.decode(words[i:i + tokens])))\n",
        "    return chunks"
      ]
    },
    {
      "attachments": {},
      "cell_type": "markdown",
      "id": "6fabbae6",
      "metadata": {},
      "source": [
        "# 将chunk输入大模型进行处理"
      ]
    },
    {
      "cell_type": "code",
      "execution_count": 3,
      "id": "Dp84iZ_u732Y",
      "metadata": {
        "id": "Dp84iZ_u732Y"
      },
      "outputs": [],
      "source": [
        "def process_chunks(input_file, output_file, log_file, model, chunksize, max_tokens, temperature, prompt):\n",
        "    initialize_files(output_file, log_file)\n",
        "    text = load_text(input_file)\n",
        "    chunks = split_into_chunks(text, model, tokens=chunksize)\n",
        "    nCh = len(chunks)\n",
        "    print(str(nCh) + ' chunks.')\n",
        "    log_to_file(log_file, f'Number of chunks: {nCh}')\n",
        "    with ThreadPoolExecutor() as executor:\n",
        "        futures = {executor.submit(call_openai_api, chunk, model, max_tokens, temperature, prompt): chunk for chunk in chunks}\n",
        "        responses = []\n",
        "        for future in tqdm(as_completed(futures), total=len(futures), desc='Processing chunks'):\n",
        "            response = future.result()\n",
        "            if response is None:\n",
        "                log_to_file(log_file, f'Failed to process chunk {futures[future]}')\n",
        "            else:\n",
        "                responses.append(response)\n",
        "                log_to_file(log_file, f'Successfully processed chunk!')\n",
        "    save_to_file(responses, output_file)"
      ]
    },
    {
      "attachments": {},
      "cell_type": "markdown",
      "id": "20NadfJZ8FVo",
      "metadata": {
        "id": "20NadfJZ8FVo"
      },
      "source": [
        "# 选择运行参数，开始处理"
      ]
    },
    {
      "cell_type": "code",
      "execution_count": 4,
      "id": "3c_zbTYI732Y",
      "metadata": {
        "colab": {
          "base_uri": "https://localhost:8080/"
        },
        "id": "3c_zbTYI732Y",
        "outputId": "a70fa3e3-f78c-4f0f-f55a-8d66c1e6917c"
      },
      "outputs": [
        {
          "name": "stdout",
          "output_type": "stream",
          "text": [
            "186 chunks.\n"
          ]
        },
        {
          "name": "stderr",
          "output_type": "stream",
          "text": [
            "Processing chunks:  97%|█████████▋| 181/186 [00:29<00:00, 23.20it/s]ERROR:root:API call failed: The server is overloaded or not ready yet.\n",
            "Processing chunks:  99%|█████████▉| 184/186 [00:33<00:00,  2.03it/s]ERROR:root:API call failed: The server is overloaded or not ready yet.\n",
            "Processing chunks:  99%|█████████▉| 185/186 [00:50<00:00,  1.66it/s]INFO:openai:error_code=502 error_message='Bad gateway.' error_param=None error_type=cf_bad_gateway message='OpenAI API error received' stream_error=False\n",
            "ERROR:root:API call failed: Bad gateway. {\"error\":{\"code\":502,\"message\":\"Bad gateway.\",\"param\":null,\"type\":\"cf_bad_gateway\"}} 502 {'error': {'code': 502, 'message': 'Bad gateway.', 'param': None, 'type': 'cf_bad_gateway'}} {'Date': 'Mon, 10 Jul 2023 03:08:16 GMT', 'Content-Type': 'application/json', 'Content-Length': '84', 'Connection': 'keep-alive', 'X-Frame-Options': 'SAMEORIGIN', 'Referrer-Policy': 'same-origin', 'Cache-Control': 'private, max-age=0, no-store, no-cache, must-revalidate, post-check=0, pre-check=0', 'Expires': 'Thu, 01 Jan 1970 00:00:01 GMT', 'Server': 'cloudflare', 'CF-RAY': '7e459249c949980f-SJC', 'alt-svc': 'h3=\":443\"; ma=86400'}\n",
            "Processing chunks: 100%|██████████| 186/186 [05:22<00:00,  1.73s/it]\n"
          ]
        }
      ],
      "source": [
        "input_file = 'input.txt'\n",
        "output_file = 'output.txt'\n",
        "log_file = 'log.txt'\n",
        "model = 'gpt-3.5-turbo' # Can also use gpt-4-0314\n",
        "chunksize = 100 # This shouldn't be too large (>4000) or OpenAI will be overloaded. A safe size is under 3000 tokens. Your prompt length also counts for the OpenAI token limit.\n",
        "tokens = 100 # shorter will be faster. but could terminate too early.\n",
        "temperature = 0.0 # 0.0 is probably best if you are going for highest accuracy\n",
        "# prompt = 'You are an expert Italian English translator. Translate the text to Italian.' # Instructions for GPT. This counts into the 4k token limit.\n",
        "prompt = 'You are an expert Chinese English translator. Translate the text to Chinese.' # Instructions for GPT. This counts into the 4k token limit.\n",
        "process_chunks(input_file, output_file, log_file, model, chunksize, tokens, temperature, prompt)"
      ]
    }
  ],
  "metadata": {
    "accelerator": "TPU",
    "colab": {
      "provenance": []
    },
    "kernelspec": {
      "display_name": "Python 3",
      "name": "python3"
    },
    "language_info": {
      "codemirror_mode": {
        "name": "ipython",
        "version": 3
      },
      "file_extension": ".py",
      "mimetype": "text/x-python",
      "name": "python",
      "nbconvert_exporter": "python",
      "pygments_lexer": "ipython3",
      "version": "3.9.16"
    }
  },
  "nbformat": 4,
  "nbformat_minor": 5
}
