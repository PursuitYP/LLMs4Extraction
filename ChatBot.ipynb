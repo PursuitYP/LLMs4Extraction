{
 "cells": [
  {
   "attachments": {},
   "cell_type": "markdown",
   "metadata": {},
   "source": [
    "# ChatBot"
   ]
  },
  {
   "cell_type": "code",
   "execution_count": 1,
   "metadata": {},
   "outputs": [],
   "source": [
    "import os\n",
    "import openai\n",
    "from dotenv import load_dotenv\n",
    "import requests\n",
    "import textract\n",
    "import tiktoken\n",
    "from llama_index import download_loader, GPTSimpleVectorIndex, SimpleDirectoryReader\n",
    "from pathlib import Path\n",
    "from llama_index import GPTListIndex, LLMPredictor\n",
    "from langchain import OpenAI\n",
    "from llama_index.composability import ComposableGraph\n",
    "from langchain.agents import Tool\n",
    "from langchain.chains.conversation.memory import ConversationBufferMemory\n",
    "from langchain.chat_models import ChatOpenAI\n",
    "from langchain.agents import initialize_agent\n",
    "from llama_index.langchain_helpers.agents import LlamaToolkit, create_llama_chat_agent, IndexToolConfig, GraphToolConfig\n",
    "from llama_index.indices.query.query_transform.base import DecomposeQueryTransform\n",
    "\n",
    "load_dotenv()\n",
    "\n",
    "os.environ[\"http_proxy\"] = \"http://10.10.1.3:10000\"\n",
    "os.environ[\"https_proxy\"] = \"http://10.10.1.3:10000\"\n",
    "\n",
    "# Load your API key from an environment variable or secret management service\n",
    "openai.api_key = os.getenv(\"OPENAI_API_KEY\")\n",
    "os.environ['OPENAI_API_KEY'] = openai.api_key"
   ]
  },
  {
   "cell_type": "code",
   "execution_count": 2,
   "metadata": {},
   "outputs": [],
   "source": [
    "# PDFReader = download_loader(\"PDFReader\")\n",
    "# loader = PDFReader()\n",
    "\n",
    "# paper_docs = loader.load_data(file=Path('./data/radiolarian/466.pdf'))\n",
    "# paper_index = GPTSimpleVectorIndex(paper_docs, chunk_size_limit=512)\n",
    "# paper_index.save_to_disk(f'./data/indexed/radiolarian_index_466.json')"
   ]
  },
  {
   "cell_type": "code",
   "execution_count": 3,
   "metadata": {},
   "outputs": [],
   "source": [
    "paper_index = GPTSimpleVectorIndex.load_from_disk(f'./data/indexed/radiolarian_index_466.json')"
   ]
  },
  {
   "cell_type": "code",
   "execution_count": 4,
   "metadata": {},
   "outputs": [],
   "source": [
    "index_configs = []\n",
    "tool_config = IndexToolConfig(\n",
    "    index=paper_index,\n",
    "    name=f\"Vector Index 466\",\n",
    "    description=f\"useful for when you want to answer queries about the paper 446\",\n",
    "    index_query_kwargs={\"similarity_top_k\": 3},\n",
    "    tool_kwargs={\"return_direct\": True}\n",
    ")\n",
    "index_configs.append(tool_config)\n",
    "\n",
    "toolkit = LlamaToolkit(\n",
    "    index_configs=index_configs\n",
    ")\n",
    "\n",
    "memory = ConversationBufferMemory(memory_key=\"chat_history\")\n",
    "llm=ChatOpenAI(model_name=\"gpt-3.5-turbo\", temperature=0)\n",
    "agent_chain = create_llama_chat_agent(\n",
    "    toolkit,\n",
    "    llm,\n",
    "    memory=memory,\n",
    "    verbose=True\n",
    ")"
   ]
  },
  {
   "cell_type": "code",
   "execution_count": 17,
   "metadata": {},
   "outputs": [
    {
     "name": "stdout",
     "output_type": "stream",
     "text": [
      "Input: Extract key pieces of information from this indexed file.\n",
      "If a particular piece of information is not present, output \"Not specified\".\n",
      "When you extract a key piece of information, include the closest page number.\n",
      "Use the following format:\n",
      "0. What is the title\n",
      "1. What is the number of species or genera found/identified\"\n",
      "\n",
      "Document: \"\"\"{document}\"\"\"\n",
      "\n",
      "0. Who is the title: radiolarain paper 446 (Page 1)\n",
      "1.\n",
      "\n",
      "\n",
      "\u001b[1m> Entering new AgentExecutor chain...\u001b[0m\n",
      "\u001b[32;1m\u001b[1;3mThought: Do I need to use a tool? No\n",
      "AI: The title of the document is \"Radiolarian Paper 446\". In the Buryella tetradica -Bekoma campechensis Interval Zone, a total of fourteen species or genera were found/identified.\u001b[0m\n",
      "\n",
      "\u001b[1m> Finished chain.\u001b[0m\n",
      "Agent: The title of the document is \"Radiolarian Paper 446\". In the Buryella tetradica -Bekoma campechensis Interval Zone, a total of fourteen species or genera were found/identified.\n"
     ]
    },
    {
     "data": {
      "text/plain": [
       "'\\nExtract key pieces of information from this regulation document.\\nIf a particular piece of information is not present, output \"Not specified\".\\nWhen you extract a key piece of information, include the closest page number.\\nUse the following format:\\n0. What is the title\\n1. What is the location or address related to boulder, samples and radiolarians\\n2. Which sentence is in the form of \"XXX (boulder, samples, radiolarians) was/were collected in/from\\n\\nDocument: \"\"\"{document}\"\"\"\\n\\n0. Who is the title: paper title (Page 1)\\n1.\\n'"
      ]
     },
     "execution_count": 17,
     "metadata": {},
     "output_type": "execute_result"
    }
   ],
   "source": [
    "# input_str = \"hi, i am bob\"\n",
    "# print(f'Input: {input_str}')\n",
    "# response = agent_chain.run(input=input_str)\n",
    "# print(f'Agent: {response}')\n",
    "\n",
    "# print(\"-\" * 80)\n",
    "\n",
    "query_str = 'Extract key pieces of information from this indexed file.\\nIf a particular piece of information is not present, output \\\"Not specified\\\".\\nWhen you extract a key piece of information, include the closest page number.\\nUse the following format:\\n0. What is the title\\n1. What is the number of species or genera found/identified\\\"\\n\\nDocument: \\\"\\\"\\\"{document}\\\"\\\"\\\"\\n\\n0. Who is the title: radiolarain paper 446 (Page 1)\\n1.'\n",
    "print(f'Input: {query_str}')\n",
    "response = agent_chain.run(input=query_str)\n",
    "print(f'Agent: {response}')\n",
    "\n",
    "\n",
    "# while True:\n",
    "#     text_input = input(\"User: \")\n",
    "#     response = agent_chain.run(input=text_input)\n",
    "#     print(f'Agent: {response}')\n",
    "\n",
    "\n",
    "'''\n",
    "Extract key pieces of information from this regulation document.\n",
    "If a particular piece of information is not present, output \\\"Not specified\\\".\n",
    "When you extract a key piece of information, include the closest page number.\n",
    "Use the following format:\\n0. What is the title\\n1. What is the location or address related to boulder, samples and radiolarians\\n2. Which sentence is in the form of \"XXX (boulder, samples, radiolarians) was/were collected in/from\\n\\nDocument: \\\"\\\"\\\"{document}\\\"\\\"\\\"\\n\\n0. Who is the title: paper title (Page 1)\\n1.\n",
    "'''"
   ]
  }
 ],
 "metadata": {
  "kernelspec": {
   "display_name": "llms",
   "language": "python",
   "name": "python3"
  },
  "language_info": {
   "codemirror_mode": {
    "name": "ipython",
    "version": 3
   },
   "file_extension": ".py",
   "mimetype": "text/x-python",
   "name": "python",
   "nbconvert_exporter": "python",
   "pygments_lexer": "ipython3",
   "version": "3.9.16"
  },
  "orig_nbformat": 4
 },
 "nbformat": 4,
 "nbformat_minor": 2
}
