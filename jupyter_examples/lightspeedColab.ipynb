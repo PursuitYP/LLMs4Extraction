{
  "cells": [
    {
      "attachments": {},
      "cell_type": "markdown",
      "id": "a95edf67",
      "metadata": {},
      "source": [
        "# 导入package和初始化"
      ]
    },
    {
      "cell_type": "code",
      "execution_count": 1,
      "id": "e2349886",
      "metadata": {},
      "outputs": [
        {
          "data": {
            "text/plain": [
              "48"
            ]
          },
          "execution_count": 1,
          "metadata": {},
          "output_type": "execute_result"
        }
      ],
      "source": [
        "import os\n",
        "import openai\n",
        "from concurrent.futures import ThreadPoolExecutor, as_completed\n",
        "import tiktoken\n",
        "import logging\n",
        "from tqdm import tqdm\n",
        "import time\n",
        "import random\n",
        "from dotenv import load_dotenv\n",
        "logging.basicConfig(level=logging.INFO) # Setup the logging system\n",
        "from multiprocessing import cpu_count\n",
        "\n",
        "\n",
        "load_dotenv()\n",
        "os.environ[\"http_proxy\"] = \"http://10.10.1.3:10000\"\n",
        "os.environ[\"https_proxy\"] = \"http://10.10.1.3:10000\"\n",
        "# Load your API key from an environment variable or secret management service\n",
        "openai.api_key = os.getenv(\"OPENAI_API_KEY\")\n",
        "os.environ['OPENAI_API_KEY'] = openai.api_key\n",
        "\n",
        "cpu_count()"
      ]
    },
    {
      "attachments": {},
      "cell_type": "markdown",
      "id": "9a8c117f",
      "metadata": {},
      "source": [
        "# 定义一些utils函数"
      ]
    },
    {
      "cell_type": "code",
      "execution_count": 2,
      "id": "9S5tOGiI732X",
      "metadata": {
        "id": "9S5tOGiI732X"
      },
      "outputs": [],
      "source": [
        "def load_text(file_path):\n",
        "    try:\n",
        "        with open(file_path, 'r') as file:\n",
        "            return file.read()\n",
        "    except Exception as e:\n",
        "        logging.error(f'Failed to load file {file_path}: {str(e)}')\n",
        "        raise\n",
        "\n",
        "\n",
        "def initialize_files(output_file, log_file):\n",
        "    try:\n",
        "        open(output_file, 'w').close()\n",
        "        open(log_file, 'w').close()\n",
        "    except Exception as e:\n",
        "        logging.error(f'Failed to initialize files {output_file}, {log_file}: {str(e)}')\n",
        "        raise\n",
        "\n",
        "\n",
        "def save_to_file(responses, output_file):\n",
        "    try:\n",
        "        with open(output_file, 'w') as file:\n",
        "            for response in responses:\n",
        "                file.write(response + '\\n')\n",
        "    except Exception as e:\n",
        "        logging.error(f'Failed to save to file {output_file}: {str(e)}')\n",
        "        raise\n",
        "\n",
        "\n",
        "def log_to_file(log_file, message):\n",
        "    try:\n",
        "        with open(log_file, 'a') as file:\n",
        "            file.write(message + '\\n')\n",
        "    except Exception as e:\n",
        "        logging.error(f'Failed to log to file {log_file}: {str(e)}')\n",
        "        raise\n",
        "\n",
        "\n",
        "def call_openai_api(chunk, model, max_tokens, temperature, prompt):\n",
        "    for i in range(3):\n",
        "        try:\n",
        "            response = openai.ChatCompletion.create(\n",
        "                model=model,\n",
        "                messages=[\n",
        "                    {'role': 'system', 'content': prompt},\n",
        "                    {'role': 'user', 'content': chunk},\n",
        "                ],\n",
        "                max_tokens=max_tokens,\n",
        "                n=1,\n",
        "                stop=None,\n",
        "                temperature=temperature,\n",
        "            )\n",
        "            return response.choices[0]['message']['content'].strip()\n",
        "        except openai.error.RateLimitError:\n",
        "            wait_time = (2 ** i) + random.random()\n",
        "            logging.warning(f'Rate limit exceeded. Retrying after {wait_time} seconds.')\n",
        "            time.sleep(wait_time)\n",
        "        except Exception as e:\n",
        "            logging.error(f'API call failed: {str(e)}')\n",
        "            return None\n",
        "    logging.error('Failed to call OpenAI API after multiple retries due to rate limiting.')\n",
        "    return None\n",
        "\n",
        "\n",
        "def split_into_chunks(text, model, tokens=1000):\n",
        "    encoding = tiktoken.encoding_for_model(model)\n",
        "    words = encoding.encode(text)\n",
        "    chunks = []\n",
        "    for i in range(0, len(words), tokens):\n",
        "        chunks.append(''.join(encoding.decode(words[i:i + tokens])))\n",
        "    return chunks"
      ]
    },
    {
      "attachments": {},
      "cell_type": "markdown",
      "id": "6fabbae6",
      "metadata": {},
      "source": [
        "# 将chunk输入大模型进行处理"
      ]
    },
    {
      "cell_type": "code",
      "execution_count": 3,
      "id": "Dp84iZ_u732Y",
      "metadata": {
        "id": "Dp84iZ_u732Y"
      },
      "outputs": [],
      "source": [
        "def process_chunks(input_file, output_file, log_file, model, chunksize, max_tokens, temperature, prompt):\n",
        "    initialize_files(output_file, log_file)\n",
        "    text = load_text(input_file)\n",
        "    chunks = split_into_chunks(text, model, tokens=chunksize)\n",
        "    nCh = len(chunks)\n",
        "    print(str(nCh) + ' chunks.')\n",
        "    log_to_file(log_file, f'Number of chunks: {nCh}')\n",
        "    with ThreadPoolExecutor() as executor:\n",
        "        futures = {executor.submit(call_openai_api, chunk, model, max_tokens, temperature, prompt): chunk for chunk in chunks}\n",
        "        responses = []\n",
        "        for future in tqdm(as_completed(futures), total=len(futures), desc='Processing chunks'):\n",
        "            response = future.result()\n",
        "            if response is None:\n",
        "                log_to_file(log_file, f'Failed to process chunk {futures[future]}')\n",
        "            else:\n",
        "                responses.append(response)\n",
        "                log_to_file(log_file, f'Successfully processed chunk!')\n",
        "    save_to_file(responses, output_file)"
      ]
    },
    {
      "attachments": {},
      "cell_type": "markdown",
      "id": "20NadfJZ8FVo",
      "metadata": {
        "id": "20NadfJZ8FVo"
      },
      "source": [
        "# 选择运行参数，开始处理"
      ]
    },
    {
      "cell_type": "code",
      "execution_count": 4,
      "id": "3c_zbTYI732Y",
      "metadata": {
        "colab": {
          "base_uri": "https://localhost:8080/"
        },
        "id": "3c_zbTYI732Y",
        "outputId": "a70fa3e3-f78c-4f0f-f55a-8d66c1e6917c"
      },
      "outputs": [
        {
          "name": "stderr",
          "output_type": "stream",
          "text": [
            "ERROR:root:Failed to load file input.txt: [Errno 2] No such file or directory: 'input.txt'\n"
          ]
        },
        {
          "ename": "FileNotFoundError",
          "evalue": "[Errno 2] No such file or directory: 'input.txt'",
          "output_type": "error",
          "traceback": [
            "\u001b[0;31m---------------------------------------------------------------------------\u001b[0m",
            "\u001b[0;31mFileNotFoundError\u001b[0m                         Traceback (most recent call last)",
            "Cell \u001b[0;32mIn[4], line 10\u001b[0m\n\u001b[1;32m      8\u001b[0m \u001b[39m# prompt = 'You are an expert Italian English translator. Translate the text to Italian.' # Instructions for GPT. This counts into the 4k token limit.\u001b[39;00m\n\u001b[1;32m      9\u001b[0m prompt \u001b[39m=\u001b[39m \u001b[39m'\u001b[39m\u001b[39mYou are an expert Chinese English translator. Translate the text to Chinese.\u001b[39m\u001b[39m'\u001b[39m \u001b[39m# Instructions for GPT. This counts into the 4k token limit.\u001b[39;00m\n\u001b[0;32m---> 10\u001b[0m process_chunks(input_file, output_file, log_file, model, chunksize, tokens, temperature, prompt)\n",
            "Cell \u001b[0;32mIn[3], line 3\u001b[0m, in \u001b[0;36mprocess_chunks\u001b[0;34m(input_file, output_file, log_file, model, chunksize, max_tokens, temperature, prompt)\u001b[0m\n\u001b[1;32m      1\u001b[0m \u001b[39mdef\u001b[39;00m \u001b[39mprocess_chunks\u001b[39m(input_file, output_file, log_file, model, chunksize, max_tokens, temperature, prompt):\n\u001b[1;32m      2\u001b[0m     initialize_files(output_file, log_file)\n\u001b[0;32m----> 3\u001b[0m     text \u001b[39m=\u001b[39m load_text(input_file)\n\u001b[1;32m      4\u001b[0m     chunks \u001b[39m=\u001b[39m split_into_chunks(text, model, tokens\u001b[39m=\u001b[39mchunksize)\n\u001b[1;32m      5\u001b[0m     nCh \u001b[39m=\u001b[39m \u001b[39mlen\u001b[39m(chunks)\n",
            "Cell \u001b[0;32mIn[2], line 3\u001b[0m, in \u001b[0;36mload_text\u001b[0;34m(file_path)\u001b[0m\n\u001b[1;32m      1\u001b[0m \u001b[39mdef\u001b[39;00m \u001b[39mload_text\u001b[39m(file_path):\n\u001b[1;32m      2\u001b[0m     \u001b[39mtry\u001b[39;00m:\n\u001b[0;32m----> 3\u001b[0m         \u001b[39mwith\u001b[39;00m \u001b[39mopen\u001b[39;49m(file_path, \u001b[39m'\u001b[39;49m\u001b[39mr\u001b[39;49m\u001b[39m'\u001b[39;49m) \u001b[39mas\u001b[39;00m file:\n\u001b[1;32m      4\u001b[0m             \u001b[39mreturn\u001b[39;00m file\u001b[39m.\u001b[39mread()\n\u001b[1;32m      5\u001b[0m     \u001b[39mexcept\u001b[39;00m \u001b[39mException\u001b[39;00m \u001b[39mas\u001b[39;00m e:\n",
            "File \u001b[0;32m~/anaconda3/envs/llms/lib/python3.9/site-packages/IPython/core/interactiveshell.py:282\u001b[0m, in \u001b[0;36m_modified_open\u001b[0;34m(file, *args, **kwargs)\u001b[0m\n\u001b[1;32m    275\u001b[0m \u001b[39mif\u001b[39;00m file \u001b[39min\u001b[39;00m {\u001b[39m0\u001b[39m, \u001b[39m1\u001b[39m, \u001b[39m2\u001b[39m}:\n\u001b[1;32m    276\u001b[0m     \u001b[39mraise\u001b[39;00m \u001b[39mValueError\u001b[39;00m(\n\u001b[1;32m    277\u001b[0m         \u001b[39mf\u001b[39m\u001b[39m\"\u001b[39m\u001b[39mIPython won\u001b[39m\u001b[39m'\u001b[39m\u001b[39mt let you open fd=\u001b[39m\u001b[39m{\u001b[39;00mfile\u001b[39m}\u001b[39;00m\u001b[39m by default \u001b[39m\u001b[39m\"\u001b[39m\n\u001b[1;32m    278\u001b[0m         \u001b[39m\"\u001b[39m\u001b[39mas it is likely to crash IPython. If you know what you are doing, \u001b[39m\u001b[39m\"\u001b[39m\n\u001b[1;32m    279\u001b[0m         \u001b[39m\"\u001b[39m\u001b[39myou can use builtins\u001b[39m\u001b[39m'\u001b[39m\u001b[39m open.\u001b[39m\u001b[39m\"\u001b[39m\n\u001b[1;32m    280\u001b[0m     )\n\u001b[0;32m--> 282\u001b[0m \u001b[39mreturn\u001b[39;00m io_open(file, \u001b[39m*\u001b[39;49margs, \u001b[39m*\u001b[39;49m\u001b[39m*\u001b[39;49mkwargs)\n",
            "\u001b[0;31mFileNotFoundError\u001b[0m: [Errno 2] No such file or directory: 'input.txt'"
          ]
        }
      ],
      "source": [
        "input_file = 'input.txt'\n",
        "output_file = 'output.txt'\n",
        "log_file = 'log.txt'\n",
        "model = 'gpt-3.5-turbo' # Can also use gpt-4-0314\n",
        "chunksize = 100 # This shouldn't be too large (>4000) or OpenAI will be overloaded. A safe size is under 3000 tokens. Your prompt length also counts for the OpenAI token limit.\n",
        "tokens = 100 # shorter will be faster. but could terminate too early.\n",
        "temperature = 0.0 # 0.0 is probably best if you are going for highest accuracy\n",
        "# prompt = 'You are an expert Italian English translator. Translate the text to Italian.' # Instructions for GPT. This counts into the 4k token limit.\n",
        "prompt = 'You are an expert Chinese English translator. Translate the text to Chinese.' # Instructions for GPT. This counts into the 4k token limit.\n",
        "process_chunks(input_file, output_file, log_file, model, chunksize, tokens, temperature, prompt)"
      ]
    },
    {
      "cell_type": "code",
      "execution_count": null,
      "id": "911e6ae1",
      "metadata": {},
      "outputs": [],
      "source": [
        "\"\"\"\n",
        "3m 6.9s\n",
        "3m 11.9s\n",
        "=>\n",
        "32.1s\n",
        "29.1s\n",
        "\"\"\""
      ]
    }
  ],
  "metadata": {
    "accelerator": "TPU",
    "colab": {
      "provenance": []
    },
    "kernelspec": {
      "display_name": "Python 3",
      "name": "python3"
    },
    "language_info": {
      "codemirror_mode": {
        "name": "ipython",
        "version": 3
      },
      "file_extension": ".py",
      "mimetype": "text/x-python",
      "name": "python",
      "nbconvert_exporter": "python",
      "pygments_lexer": "ipython3",
      "version": "3.9.16"
    }
  },
  "nbformat": 4,
  "nbformat_minor": 5
}
